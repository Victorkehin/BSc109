{
  "nbformat": 4,
  "nbformat_minor": 0,
  "metadata": {
    "colab": {
      "name": "Sales_Bcs109_pythonHw",
      "provenance": [],
      "collapsed_sections": []
    },
    "kernelspec": {
      "name": "python3",
      "display_name": "Python 3"
    },
    "language_info": {
      "name": "python"
    }
  },
  "cells": [
    {
      "cell_type": "code",
      "metadata": {
        "colab": {
          "base_uri": "https://localhost:8080/"
        },
        "id": "prLYM1sneUBD",
        "outputId": "ae4a4fde-cc36-4829-821f-193e5e8f2986"
      },
      "source": [
        "#This program displays the amount of discount and the total amount of the purchase after the discount.\n",
        "package = 99\n",
        "quantity = int(input(\"How many would you like to purchase?\\n\"))\n",
        "discount = 0\n",
        "if quantity >= 10 and quantity <=19:\n",
        "  discount = .1\n",
        "elif quantity >= 20 and quantity <= 49:\n",
        "  discount = .2\n",
        "elif quantity >= 50 and quantity <= 99:\n",
        "  discount = .3\n",
        "elif quantity >= 100:\n",
        "  dicount = .4\n",
        "\n",
        "total_amount = package*quantity*(1-discount)\n",
        "print(\"The discount saved is \", discount*100, \"%\")\n",
        "print(\"The total amount of the current cost is $\", total_amount)"
      ],
      "execution_count": null,
      "outputs": [
        {
          "output_type": "stream",
          "name": "stdout",
          "text": [
            "How many would you like to purchase?\n",
            "46\n",
            "The discount saved is  20.0 %\n",
            "The total amount of the current cost is $ 3643.2000000000003\n"
          ]
        }
      ]
    },
    {
      "cell_type": "code",
      "metadata": {
        "colab": {
          "base_uri": "https://localhost:8080/"
        },
        "id": "EVuQgyKWdd4s",
        "outputId": "9f5f53a4-ba8c-4ff1-863c-57e9c95d2209"
      },
      "source": [
        "#Shipping charges.\n",
        "\n",
        "# This program asks user to enter weight of a package and then \n",
        "# displays rate for shpping per pounds\n",
        "userWeightOfPackage = int( input( \"Please enter the weight of the package\" ))\n",
        "\n",
        "if userWeightOfPackage <= 2: \n",
        "  rateperlbs = 1.50\n",
        "elif userWeightOfPackage < 7:\n",
        "  rateperlbs = 3.00\n",
        "elif userWeightOfPackage < 11:\n",
        "  rateperlbs = 4.00\n",
        "else:\n",
        "  rateperlbs = 4.75\n",
        "\n",
        "\n",
        "print( \"\\nFor package that weighs \" + str( userWeightOfPackage ) + \\\n",
        "      \"lbs, you'll pay $\" + format (rateperlbs, \",.2f\" ) )\n",
        "\n",
        "\n",
        "\n"
      ],
      "execution_count": 4,
      "outputs": [
        {
          "output_type": "stream",
          "name": "stdout",
          "text": [
            "Please enter the weight of the package6\n",
            "\n",
            "For package that weighs 6lbs, you'll pay $3.00\n"
          ]
        }
      ]
    }
  ]
}