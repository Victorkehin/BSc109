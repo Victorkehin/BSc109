{
  "nbformat": 4,
  "nbformat_minor": 0,
  "metadata": {
    "colab": {
      "name": "Data Project.ipynb",
      "provenance": [],
      "collapsed_sections": [],
      "include_colab_link": true
    },
    "kernelspec": {
      "name": "python3",
      "display_name": "Python 3"
    },
    "language_info": {
      "name": "python"
    }
  },
  "cells": [
    {
      "cell_type": "markdown",
      "metadata": {
        "id": "view-in-github",
        "colab_type": "text"
      },
      "source": [
        "<a href=\"https://colab.research.google.com/github/Victorkehin/BSc109/blob/main/Data_Project.ipynb\" target=\"_parent\"><img src=\"https://colab.research.google.com/assets/colab-badge.svg\" alt=\"Open In Colab\"/></a>"
      ]
    },
    {
      "cell_type": "markdown",
      "metadata": {
        "id": "qtNVZnwzCQ-P"
      },
      "source": [
        "##Data Project\n",
        "\n",
        "In this project, we answer a very important question for all the sitcom fanatics in the world. **Who** is the best director of the office? To solve this question we must look for three main factors: which episodes were most successful, who directed the most episodes, and who had the highest average rating for the episodes directed. Using these three questions and the data compiled we will be able to find the statistically best director.\n"
      ]
    },
    {
      "cell_type": "code",
      "metadata": {
        "id": "RddA-dcRBqsV",
        "colab": {
          "base_uri": "https://localhost:8080/",
          "height": 660
        },
        "outputId": "a0932257-1987-4150-a007-30c51e457036"
      },
      "source": [
        "import pandas as pd\n",
        "import numpy as np\n",
        "import matplotlib.pyplot as plt\n",
        "import missingno as msno\n",
        "import seaborn as sns\n",
        "\n",
        "df = pd.read_csv(\"https://raw.githubusercontent.com/Victorkehin/BSc109/main/the_office_imdb%20(1).csv\")\n",
        "df.head()\n",
        "#shows the dataset that we will use for the ratings\n"
      ],
      "execution_count": null,
      "outputs": [
        {
          "output_type": "execute_result",
          "data": {
            "text/html": [
              "<div>\n",
              "<style scoped>\n",
              "    .dataframe tbody tr th:only-of-type {\n",
              "        vertical-align: middle;\n",
              "    }\n",
              "\n",
              "    .dataframe tbody tr th {\n",
              "        vertical-align: top;\n",
              "    }\n",
              "\n",
              "    .dataframe thead th {\n",
              "        text-align: right;\n",
              "    }\n",
              "</style>\n",
              "<table border=\"1\" class=\"dataframe\">\n",
              "  <thead>\n",
              "    <tr style=\"text-align: right;\">\n",
              "      <th></th>\n",
              "      <th>season</th>\n",
              "      <th>episode_num</th>\n",
              "      <th>title</th>\n",
              "      <th>original_air_date</th>\n",
              "      <th>imdb_rating</th>\n",
              "      <th>total_votes</th>\n",
              "      <th>desc</th>\n",
              "    </tr>\n",
              "  </thead>\n",
              "  <tbody>\n",
              "    <tr>\n",
              "      <th>0</th>\n",
              "      <td>1</td>\n",
              "      <td>1</td>\n",
              "      <td>Pilot</td>\n",
              "      <td>2005-03-24</td>\n",
              "      <td>7.4</td>\n",
              "      <td>7006</td>\n",
              "      <td>The premiere episode introduces the boss and s...</td>\n",
              "    </tr>\n",
              "    <tr>\n",
              "      <th>1</th>\n",
              "      <td>1</td>\n",
              "      <td>2</td>\n",
              "      <td>Diversity Day</td>\n",
              "      <td>2005-03-29</td>\n",
              "      <td>8.3</td>\n",
              "      <td>6902</td>\n",
              "      <td>Michael's off color remark puts a sensitivity ...</td>\n",
              "    </tr>\n",
              "    <tr>\n",
              "      <th>2</th>\n",
              "      <td>1</td>\n",
              "      <td>3</td>\n",
              "      <td>Health Care</td>\n",
              "      <td>2005-04-05</td>\n",
              "      <td>7.7</td>\n",
              "      <td>5756</td>\n",
              "      <td>Michael leaves Dwight in charge of picking the...</td>\n",
              "    </tr>\n",
              "    <tr>\n",
              "      <th>3</th>\n",
              "      <td>1</td>\n",
              "      <td>4</td>\n",
              "      <td>The Alliance</td>\n",
              "      <td>2005-04-12</td>\n",
              "      <td>8.0</td>\n",
              "      <td>5579</td>\n",
              "      <td>Just for a laugh, Jim agrees to an alliance wi...</td>\n",
              "    </tr>\n",
              "    <tr>\n",
              "      <th>4</th>\n",
              "      <td>1</td>\n",
              "      <td>5</td>\n",
              "      <td>Basketball</td>\n",
              "      <td>2005-04-19</td>\n",
              "      <td>8.4</td>\n",
              "      <td>6183</td>\n",
              "      <td>Michael and his staff challenge the warehouse ...</td>\n",
              "    </tr>\n",
              "  </tbody>\n",
              "</table>\n",
              "</div>"
            ],
            "text/plain": [
              "   season  ...                                               desc\n",
              "0       1  ...  The premiere episode introduces the boss and s...\n",
              "1       1  ...  Michael's off color remark puts a sensitivity ...\n",
              "2       1  ...  Michael leaves Dwight in charge of picking the...\n",
              "3       1  ...  Just for a laugh, Jim agrees to an alliance wi...\n",
              "4       1  ...  Michael and his staff challenge the warehouse ...\n",
              "\n",
              "[5 rows x 7 columns]"
            ]
          },
          "metadata": {},
          "execution_count": 2
        }
      ]
    },
    {
      "cell_type": "code",
      "metadata": {
        "id": "mxJfiIwVSUuW",
        "colab": {
          "base_uri": "https://localhost:8080/",
          "height": 677
        },
        "outputId": "00dd4fc5-7a7e-4329-f046-bb705dfca04c"
      },
      "source": [
        "import pandas as pd\n",
        "import numpy as np\n",
        "import matplotlib.pyplot as plt\n",
        "import missingno as msno\n",
        "import seaborn as sns\n",
        "\n",
        "df = pd.read_csv(\"https://raw.githubusercontent.com/Victorkehin/BSc109/main/the_office_series.csv\")\n",
        "df.head()\n",
        "#this is the data that we will used for the directors and episodes"
      ],
      "execution_count": null,
      "outputs": [
        {
          "output_type": "execute_result",
          "data": {
            "text/html": [
              "<div>\n",
              "<style scoped>\n",
              "    .dataframe tbody tr th:only-of-type {\n",
              "        vertical-align: middle;\n",
              "    }\n",
              "\n",
              "    .dataframe tbody tr th {\n",
              "        vertical-align: top;\n",
              "    }\n",
              "\n",
              "    .dataframe thead th {\n",
              "        text-align: right;\n",
              "    }\n",
              "</style>\n",
              "<table border=\"1\" class=\"dataframe\">\n",
              "  <thead>\n",
              "    <tr style=\"text-align: right;\">\n",
              "      <th></th>\n",
              "      <th>Unnamed: 0</th>\n",
              "      <th>Season</th>\n",
              "      <th>EpisodeTitle</th>\n",
              "      <th>About</th>\n",
              "      <th>Ratings</th>\n",
              "      <th>Votes</th>\n",
              "      <th>Viewership</th>\n",
              "      <th>Duration</th>\n",
              "      <th>Date</th>\n",
              "      <th>GuestStars</th>\n",
              "      <th>Director</th>\n",
              "      <th>Writers</th>\n",
              "    </tr>\n",
              "  </thead>\n",
              "  <tbody>\n",
              "    <tr>\n",
              "      <th>0</th>\n",
              "      <td>0</td>\n",
              "      <td>1</td>\n",
              "      <td>Pilot</td>\n",
              "      <td>The premiere episode introduces the boss and s...</td>\n",
              "      <td>7.5</td>\n",
              "      <td>4936</td>\n",
              "      <td>11.2</td>\n",
              "      <td>23</td>\n",
              "      <td>24 March 2005</td>\n",
              "      <td>NaN</td>\n",
              "      <td>Ken Kwapis</td>\n",
              "      <td>Ricky Gervais |Stephen Merchant and Greg Daniels</td>\n",
              "    </tr>\n",
              "    <tr>\n",
              "      <th>1</th>\n",
              "      <td>1</td>\n",
              "      <td>1</td>\n",
              "      <td>Diversity Day</td>\n",
              "      <td>Michael's off color remark puts a sensitivity ...</td>\n",
              "      <td>8.3</td>\n",
              "      <td>4801</td>\n",
              "      <td>6.0</td>\n",
              "      <td>23</td>\n",
              "      <td>29 March 2005</td>\n",
              "      <td>NaN</td>\n",
              "      <td>Ken Kwapis</td>\n",
              "      <td>B. J. Novak</td>\n",
              "    </tr>\n",
              "    <tr>\n",
              "      <th>2</th>\n",
              "      <td>2</td>\n",
              "      <td>1</td>\n",
              "      <td>Health Care</td>\n",
              "      <td>Michael leaves Dwight in charge of picking the...</td>\n",
              "      <td>7.8</td>\n",
              "      <td>4024</td>\n",
              "      <td>5.8</td>\n",
              "      <td>22</td>\n",
              "      <td>5 April 2005</td>\n",
              "      <td>NaN</td>\n",
              "      <td>Ken Whittingham</td>\n",
              "      <td>Paul Lieberstein</td>\n",
              "    </tr>\n",
              "    <tr>\n",
              "      <th>3</th>\n",
              "      <td>3</td>\n",
              "      <td>1</td>\n",
              "      <td>The Alliance</td>\n",
              "      <td>Just for a laugh, Jim agrees to an alliance wi...</td>\n",
              "      <td>8.1</td>\n",
              "      <td>3915</td>\n",
              "      <td>5.4</td>\n",
              "      <td>23</td>\n",
              "      <td>12 April 2005</td>\n",
              "      <td>NaN</td>\n",
              "      <td>Bryan Gordon</td>\n",
              "      <td>Michael Schur</td>\n",
              "    </tr>\n",
              "    <tr>\n",
              "      <th>4</th>\n",
              "      <td>4</td>\n",
              "      <td>1</td>\n",
              "      <td>Basketball</td>\n",
              "      <td>Michael and his staff challenge the warehouse ...</td>\n",
              "      <td>8.4</td>\n",
              "      <td>4294</td>\n",
              "      <td>5.0</td>\n",
              "      <td>23</td>\n",
              "      <td>19 April 2005</td>\n",
              "      <td>NaN</td>\n",
              "      <td>Greg Daniels</td>\n",
              "      <td>Greg Daniels</td>\n",
              "    </tr>\n",
              "  </tbody>\n",
              "</table>\n",
              "</div>"
            ],
            "text/plain": [
              "   Unnamed: 0  ...                                           Writers\n",
              "0           0  ...  Ricky Gervais |Stephen Merchant and Greg Daniels\n",
              "1           1  ...                                       B. J. Novak\n",
              "2           2  ...                                  Paul Lieberstein\n",
              "3           3  ...                                     Michael Schur\n",
              "4           4  ...                                      Greg Daniels\n",
              "\n",
              "[5 rows x 12 columns]"
            ]
          },
          "metadata": {},
          "execution_count": 2
        }
      ]
    },
    {
      "cell_type": "markdown",
      "source": [
        "##Check if the data is null\n"
      ],
      "metadata": {
        "id": "QS-ORBttCEhU"
      }
    },
    {
      "cell_type": "code",
      "source": [
        "#Check for nulls\n",
        "df.isnull().sum()"
      ],
      "metadata": {
        "colab": {
          "base_uri": "https://localhost:8080/"
        },
        "id": "Q9hZez9dCJ4P",
        "outputId": "c03fa75b-d50a-403c-de7f-6f1b5cfc31c6"
      },
      "execution_count": null,
      "outputs": [
        {
          "output_type": "execute_result",
          "data": {
            "text/plain": [
              "season               0\n",
              "episode_num          0\n",
              "title                0\n",
              "original_air_date    0\n",
              "imdb_rating          0\n",
              "total_votes          0\n",
              "desc                 0\n",
              "dtype: int64"
            ]
          },
          "metadata": {},
          "execution_count": 3
        }
      ]
    },
    {
      "cell_type": "markdown",
      "metadata": {
        "id": "sU6YOPgwYZyv"
      },
      "source": [
        "1. What episode has the highest rating?\n",
        "\n",
        "This is an important question because it will show the most successful episodes in the series, and then we can take a look at which directors worked on the best episodes.\n"
      ]
    },
    {
      "cell_type": "code",
      "metadata": {
        "id": "pFIpGdBeaIYv",
        "colab": {
          "base_uri": "https://localhost:8080/",
          "height": 484
        },
        "outputId": "00338a77-6cc5-452d-a0d6-2301ce16d88b"
      },
      "source": [
        "import matplotlib.pyplot as plt\n",
        "import pandas as pd\n",
        "import pandas_profiling as pp\n",
        "\n",
        "data = pd.read_csv('https://raw.githubusercontent.com/Victorkehin/BSc109/main/the_office_series.csv', usecols=['Unnamed: 0', 'Ratings'])\n",
        "df = pd.DataFrame(data)\n",
        "\n",
        "\n",
        "#dfSorted = df.sort_values('Ratings').reset_index(drop=True)\n",
        "top_df = df.sort_values('Ratings', ascending=False)\n",
        "top_df.head()\n",
        "\n",
        "x = list(df.iloc[:, 0])\n",
        "y = list(df.iloc[:, 1])\n",
        "#creates bar chart of all ratings\n",
        "plt.bar(x, y)\n",
        "plt.title(\"Episodes by Ratings\")\n",
        "plt.xlabel(\"Unnamed: 0\")\n",
        "plt.ylabel(\"Ratings\")\n",
        "plt.show()\n",
        "#prints the top 5 highest rated episodes\n",
        "top_df.head()\n"
      ],
      "execution_count": null,
      "outputs": [
        {
          "output_type": "display_data",
          "data": {
            "image/png": "[encoded data removed]",
            "text/plain": [
              "<Figure size 432x288 with 1 Axes>"
            ]
          },
          "metadata": {
            "needs_background": "light"
          }
        },
        {
          "output_type": "execute_result",
          "data": {
            "text/html": [
              "<div>\n",
              "<style scoped>\n",
              "    .dataframe tbody tr th:only-of-type {\n",
              "        vertical-align: middle;\n",
              "    }\n",
              "\n",
              "    .dataframe tbody tr th {\n",
              "        vertical-align: top;\n",
              "    }\n",
              "\n",
              "    .dataframe thead th {\n",
              "        text-align: right;\n",
              "    }\n",
              "</style>\n",
              "<table border=\"1\" class=\"dataframe\">\n",
              "  <thead>\n",
              "    <tr style=\"text-align: right;\">\n",
              "      <th></th>\n",
              "      <th>Unnamed: 0</th>\n",
              "      <th>Ratings</th>\n",
              "    </tr>\n",
              "  </thead>\n",
              "  <tbody>\n",
              "    <tr>\n",
              "      <th>187</th>\n",
              "      <td>187</td>\n",
              "      <td>9.8</td>\n",
              "    </tr>\n",
              "    <tr>\n",
              "      <th>137</th>\n",
              "      <td>137</td>\n",
              "      <td>9.8</td>\n",
              "    </tr>\n",
              "    <tr>\n",
              "      <th>77</th>\n",
              "      <td>77</td>\n",
              "      <td>9.7</td>\n",
              "    </tr>\n",
              "    <tr>\n",
              "      <th>186</th>\n",
              "      <td>186</td>\n",
              "      <td>9.5</td>\n",
              "    </tr>\n",
              "    <tr>\n",
              "      <th>59</th>\n",
              "      <td>59</td>\n",
              "      <td>9.5</td>\n",
              "    </tr>\n",
              "  </tbody>\n",
              "</table>\n",
              "</div>"
            ],
            "text/plain": [
              "     Unnamed: 0  Ratings\n",
              "187         187      9.8\n",
              "137         137      9.8\n",
              "77           77      9.7\n",
              "186         186      9.5\n",
              "59           59      9.5"
            ]
          },
          "metadata": {},
          "execution_count": 5
        }
      ]
    },
    {
      "cell_type": "markdown",
      "metadata": {
        "id": "lRi3JPlhxNnx"
      },
      "source": [
        "#Episode 187 and 137 have the highest ratings.\n",
        "187: \"Suit Warehouse\" Directed by Matt Sohn\\\n",
        "137: \"Classy Christmas\" Directed by Rainn Wilson\n",
        "\n",
        "Since these are tied for the highest rated episode of the series, it adds some value to the directors due to this success."
      ]
    },
    {
      "cell_type": "markdown",
      "metadata": {
        "id": "EXqCq14goUb1"
      },
      "source": [
        "2. Which producer directed the most episodes?\\\n",
        "This is an important question to ask, because this can eliminate the possibility that a Director can take the title by only working on one episode, and so we want to eliminate that possible error by looking at the directors that worked on the most episodes to really be sure that our answer has worked on more that one episode which would skew the directors average ratings."
      ]
    },
    {
      "cell_type": "code",
      "metadata": {
        "id": "8QPOy6OJocMw",
        "colab": {
          "base_uri": "https://localhost:8080/"
        },
        "outputId": "4ad1826e-faed-4a8e-91c1-e266890ef0ed"
      },
      "source": [
        "import pandas as pd\n",
        "import matplotlib.pyplot as plt\n",
        "\n",
        "\n",
        "data = pd.read_csv('https://raw.githubusercontent.com/Victorkehin/BSc109/main/the_office_series.csv', usecols=['Director', 'Ratings'])\n",
        "df = pd.DataFrame(data)\n",
        "top_df = df.sort_values('Ratings', ascending=False)\n",
        "#top_df.head()\n",
        "\n",
        "df['Director'].value_counts().head()"
      ],
      "execution_count": null,
      "outputs": [
        {
          "output_type": "execute_result",
          "data": {
            "text/plain": [
              "Paul Feig          15\n",
              "Randall Einhorn    15\n",
              "Ken Kwapis         13\n",
              "Greg Daniels       13\n",
              "Jeffrey Blitz      11\n",
              "Name: Director, dtype: int64"
            ]
          },
          "metadata": {},
          "execution_count": 7
        }
      ]
    },
    {
      "cell_type": "markdown",
      "source": [
        "#Directors Paul Feig and Randall Einhorn have directed the most episodes\n",
        "Both directors have both worked on 15 episodes in total which tallies up to almost a whole season, which definitely makes them a prime candidate for the best director if they were able to work for so much of the show."
      ],
      "metadata": {
        "id": "D1zibgGpvn58"
      }
    },
    {
      "cell_type": "markdown",
      "metadata": {
        "id": "B1MHY89FocdT"
      },
      "source": [
        "3. Which producer has the highest ratings on average?\\\n",
        "This will help us really distinguish the skill and success of the directors, this also must be looked at with some forsight that some directors may not have worked on the same amount of episodes, and they could only have worked on 1 episode that was just rated high. Therefore we will be looking at the highest rated Director that is within the top 5 of the data from question 2."
      ]
    },
    {
      "cell_type": "code",
      "metadata": {
        "id": "jAxlXJ_Coc9C",
        "colab": {
          "base_uri": "https://localhost:8080/",
          "height": 1000
        },
        "outputId": "eb286d97-6096-4b9a-a498-93dbb9387fbe"
      },
      "source": [
        "import matplotlib.pyplot as plt\n",
        "#this takes the ratings as an average among each director and ranks them based on highest average\n",
        "url = 'https://raw.githubusercontent.com/Victorkehin/BSc109/main/the_office_series.csv'\n",
        "df = pd.read_csv(url)\n",
        "df.groupby('Director').agg({'Ratings': 'mean'}).sort_values('Ratings', ascending=False).reset_index(drop=False)\n"
      ],
      "execution_count": null,
      "outputs": [
        {
          "output_type": "execute_result",
          "data": {
            "text/html": [
              "<div>\n",
              "<style scoped>\n",
              "    .dataframe tbody tr th:only-of-type {\n",
              "        vertical-align: middle;\n",
              "    }\n",
              "\n",
              "    .dataframe tbody tr th {\n",
              "        vertical-align: top;\n",
              "    }\n",
              "\n",
              "    .dataframe thead th {\n",
              "        text-align: right;\n",
              "    }\n",
              "</style>\n",
              "<table border=\"1\" class=\"dataframe\">\n",
              "  <thead>\n",
              "    <tr style=\"text-align: right;\">\n",
              "      <th></th>\n",
              "      <th>Director</th>\n",
              "      <th>Ratings</th>\n",
              "    </tr>\n",
              "  </thead>\n",
              "  <tbody>\n",
              "    <tr>\n",
              "      <th>0</th>\n",
              "      <td>Harold Ramis</td>\n",
              "      <td>8.825000</td>\n",
              "    </tr>\n",
              "    <tr>\n",
              "      <th>1</th>\n",
              "      <td>Jason Reitman</td>\n",
              "      <td>8.800000</td>\n",
              "    </tr>\n",
              "    <tr>\n",
              "      <th>2</th>\n",
              "      <td>Steve Carell</td>\n",
              "      <td>8.766667</td>\n",
              "    </tr>\n",
              "    <tr>\n",
              "      <th>3</th>\n",
              "      <td>Paul Feig</td>\n",
              "      <td>8.753333</td>\n",
              "    </tr>\n",
              "    <tr>\n",
              "      <th>4</th>\n",
              "      <td>Joss Whedon</td>\n",
              "      <td>8.700000</td>\n",
              "    </tr>\n",
              "    <tr>\n",
              "      <th>5</th>\n",
              "      <td>Gene Stupnitsky</td>\n",
              "      <td>8.700000</td>\n",
              "    </tr>\n",
              "    <tr>\n",
              "      <th>6</th>\n",
              "      <td>Tucker Gates</td>\n",
              "      <td>8.650000</td>\n",
              "    </tr>\n",
              "    <tr>\n",
              "      <th>7</th>\n",
              "      <td>Ken Kwapis</td>\n",
              "      <td>8.607692</td>\n",
              "    </tr>\n",
              "    <tr>\n",
              "      <th>8</th>\n",
              "      <td>Julian Farino</td>\n",
              "      <td>8.600000</td>\n",
              "    </tr>\n",
              "    <tr>\n",
              "      <th>9</th>\n",
              "      <td>Lee Eisenberg</td>\n",
              "      <td>8.600000</td>\n",
              "    </tr>\n",
              "    <tr>\n",
              "      <th>10</th>\n",
              "      <td>Bryan Gordon</td>\n",
              "      <td>8.600000</td>\n",
              "    </tr>\n",
              "    <tr>\n",
              "      <th>11</th>\n",
              "      <td>Mindy Kaling</td>\n",
              "      <td>8.500000</td>\n",
              "    </tr>\n",
              "    <tr>\n",
              "      <th>12</th>\n",
              "      <td>Stephen Merchant</td>\n",
              "      <td>8.500000</td>\n",
              "    </tr>\n",
              "    <tr>\n",
              "      <th>13</th>\n",
              "      <td>J.J. Abrams</td>\n",
              "      <td>8.500000</td>\n",
              "    </tr>\n",
              "    <tr>\n",
              "      <th>14</th>\n",
              "      <td>Dean Holland</td>\n",
              "      <td>8.450000</td>\n",
              "    </tr>\n",
              "    <tr>\n",
              "      <th>15</th>\n",
              "      <td>Greg Daniels</td>\n",
              "      <td>8.446154</td>\n",
              "    </tr>\n",
              "    <tr>\n",
              "      <th>16</th>\n",
              "      <td>Charles McDougall</td>\n",
              "      <td>8.375000</td>\n",
              "    </tr>\n",
              "    <tr>\n",
              "      <th>17</th>\n",
              "      <td>Jeffrey Blitz</td>\n",
              "      <td>8.309091</td>\n",
              "    </tr>\n",
              "    <tr>\n",
              "      <th>18</th>\n",
              "      <td>Craig Zisk</td>\n",
              "      <td>8.300000</td>\n",
              "    </tr>\n",
              "    <tr>\n",
              "      <th>19</th>\n",
              "      <td>Dennie Gordon</td>\n",
              "      <td>8.300000</td>\n",
              "    </tr>\n",
              "    <tr>\n",
              "      <th>20</th>\n",
              "      <td>Ken Whittingham</td>\n",
              "      <td>8.262500</td>\n",
              "    </tr>\n",
              "    <tr>\n",
              "      <th>21</th>\n",
              "      <td>Seth Gordon</td>\n",
              "      <td>8.250000</td>\n",
              "    </tr>\n",
              "    <tr>\n",
              "      <th>22</th>\n",
              "      <td>Reginald Hudlin</td>\n",
              "      <td>8.200000</td>\n",
              "    </tr>\n",
              "    <tr>\n",
              "      <th>23</th>\n",
              "      <td>John Scott</td>\n",
              "      <td>8.200000</td>\n",
              "    </tr>\n",
              "    <tr>\n",
              "      <th>24</th>\n",
              "      <td>See full summary</td>\n",
              "      <td>8.185714</td>\n",
              "    </tr>\n",
              "    <tr>\n",
              "      <th>25</th>\n",
              "      <td>Paul Lieberstein</td>\n",
              "      <td>8.142857</td>\n",
              "    </tr>\n",
              "    <tr>\n",
              "      <th>26</th>\n",
              "      <td>Randall Einhorn</td>\n",
              "      <td>8.113333</td>\n",
              "    </tr>\n",
              "    <tr>\n",
              "      <th>27</th>\n",
              "      <td>Brian Baumgartner</td>\n",
              "      <td>8.100000</td>\n",
              "    </tr>\n",
              "    <tr>\n",
              "      <th>28</th>\n",
              "      <td>Jon Favreau</td>\n",
              "      <td>8.100000</td>\n",
              "    </tr>\n",
              "    <tr>\n",
              "      <th>29</th>\n",
              "      <td>Marc Webb</td>\n",
              "      <td>8.100000</td>\n",
              "    </tr>\n",
              "    <tr>\n",
              "      <th>30</th>\n",
              "      <td>Jennifer Celotta</td>\n",
              "      <td>8.033333</td>\n",
              "    </tr>\n",
              "    <tr>\n",
              "      <th>31</th>\n",
              "      <td>Asaad Kelada</td>\n",
              "      <td>8.000000</td>\n",
              "    </tr>\n",
              "    <tr>\n",
              "      <th>32</th>\n",
              "      <td>Roger Nygard</td>\n",
              "      <td>8.000000</td>\n",
              "    </tr>\n",
              "    <tr>\n",
              "      <th>33</th>\n",
              "      <td>Jesse Peretz</td>\n",
              "      <td>8.000000</td>\n",
              "    </tr>\n",
              "    <tr>\n",
              "      <th>34</th>\n",
              "      <td>B.J. Novak</td>\n",
              "      <td>7.920000</td>\n",
              "    </tr>\n",
              "    <tr>\n",
              "      <th>35</th>\n",
              "      <td>David Rogers</td>\n",
              "      <td>7.911111</td>\n",
              "    </tr>\n",
              "    <tr>\n",
              "      <th>36</th>\n",
              "      <td>Rainn Wilson</td>\n",
              "      <td>7.900000</td>\n",
              "    </tr>\n",
              "    <tr>\n",
              "      <th>37</th>\n",
              "      <td>Kelly Cantley-Kashima</td>\n",
              "      <td>7.900000</td>\n",
              "    </tr>\n",
              "    <tr>\n",
              "      <th>38</th>\n",
              "      <td>Miguel Arteta</td>\n",
              "      <td>7.900000</td>\n",
              "    </tr>\n",
              "    <tr>\n",
              "      <th>39</th>\n",
              "      <td>Brent Forrester</td>\n",
              "      <td>7.900000</td>\n",
              "    </tr>\n",
              "    <tr>\n",
              "      <th>40</th>\n",
              "      <td>Troy Miller</td>\n",
              "      <td>7.900000</td>\n",
              "    </tr>\n",
              "    <tr>\n",
              "      <th>41</th>\n",
              "      <td>Victor Nelli Jr.</td>\n",
              "      <td>7.800000</td>\n",
              "    </tr>\n",
              "    <tr>\n",
              "      <th>42</th>\n",
              "      <td>Matt Sohn</td>\n",
              "      <td>7.800000</td>\n",
              "    </tr>\n",
              "    <tr>\n",
              "      <th>43</th>\n",
              "      <td>Bryan Cranston</td>\n",
              "      <td>7.800000</td>\n",
              "    </tr>\n",
              "    <tr>\n",
              "      <th>44</th>\n",
              "      <td>Amy Heckerling</td>\n",
              "      <td>7.700000</td>\n",
              "    </tr>\n",
              "    <tr>\n",
              "      <th>45</th>\n",
              "      <td>Charlie Grandy</td>\n",
              "      <td>7.700000</td>\n",
              "    </tr>\n",
              "    <tr>\n",
              "      <th>46</th>\n",
              "      <td>Rodman Flender</td>\n",
              "      <td>7.600000</td>\n",
              "    </tr>\n",
              "    <tr>\n",
              "      <th>47</th>\n",
              "      <td>Daniel Chun</td>\n",
              "      <td>7.600000</td>\n",
              "    </tr>\n",
              "    <tr>\n",
              "      <th>48</th>\n",
              "      <td>John Krasinski</td>\n",
              "      <td>7.566667</td>\n",
              "    </tr>\n",
              "    <tr>\n",
              "      <th>49</th>\n",
              "      <td>Lee Kirk</td>\n",
              "      <td>7.500000</td>\n",
              "    </tr>\n",
              "    <tr>\n",
              "      <th>50</th>\n",
              "      <td>Ed Helms</td>\n",
              "      <td>7.500000</td>\n",
              "    </tr>\n",
              "    <tr>\n",
              "      <th>51</th>\n",
              "      <td>Eric Appel</td>\n",
              "      <td>7.400000</td>\n",
              "    </tr>\n",
              "    <tr>\n",
              "      <th>52</th>\n",
              "      <td>Alex Hardcastle</td>\n",
              "      <td>7.400000</td>\n",
              "    </tr>\n",
              "    <tr>\n",
              "      <th>53</th>\n",
              "      <td>Claire Scanlon</td>\n",
              "      <td>7.000000</td>\n",
              "    </tr>\n",
              "  </tbody>\n",
              "</table>\n",
              "</div>"
            ],
            "text/plain": [
              "                 Director   Ratings\n",
              "0            Harold Ramis  8.825000\n",
              "1           Jason Reitman  8.800000\n",
              "2            Steve Carell  8.766667\n",
              "3               Paul Feig  8.753333\n",
              "4             Joss Whedon  8.700000\n",
              "5         Gene Stupnitsky  8.700000\n",
              "6            Tucker Gates  8.650000\n",
              "7              Ken Kwapis  8.607692\n",
              "8           Julian Farino  8.600000\n",
              "9           Lee Eisenberg  8.600000\n",
              "10           Bryan Gordon  8.600000\n",
              "11           Mindy Kaling  8.500000\n",
              "12       Stephen Merchant  8.500000\n",
              "13            J.J. Abrams  8.500000\n",
              "14           Dean Holland  8.450000\n",
              "15           Greg Daniels  8.446154\n",
              "16      Charles McDougall  8.375000\n",
              "17          Jeffrey Blitz  8.309091\n",
              "18             Craig Zisk  8.300000\n",
              "19          Dennie Gordon  8.300000\n",
              "20        Ken Whittingham  8.262500\n",
              "21            Seth Gordon  8.250000\n",
              "22        Reginald Hudlin  8.200000\n",
              "23             John Scott  8.200000\n",
              "24       See full summary  8.185714\n",
              "25       Paul Lieberstein  8.142857\n",
              "26        Randall Einhorn  8.113333\n",
              "27      Brian Baumgartner  8.100000\n",
              "28            Jon Favreau  8.100000\n",
              "29              Marc Webb  8.100000\n",
              "30       Jennifer Celotta  8.033333\n",
              "31           Asaad Kelada  8.000000\n",
              "32           Roger Nygard  8.000000\n",
              "33           Jesse Peretz  8.000000\n",
              "34             B.J. Novak  7.920000\n",
              "35           David Rogers  7.911111\n",
              "36           Rainn Wilson  7.900000\n",
              "37  Kelly Cantley-Kashima  7.900000\n",
              "38          Miguel Arteta  7.900000\n",
              "39        Brent Forrester  7.900000\n",
              "40            Troy Miller  7.900000\n",
              "41       Victor Nelli Jr.  7.800000\n",
              "42              Matt Sohn  7.800000\n",
              "43         Bryan Cranston  7.800000\n",
              "44         Amy Heckerling  7.700000\n",
              "45         Charlie Grandy  7.700000\n",
              "46         Rodman Flender  7.600000\n",
              "47            Daniel Chun  7.600000\n",
              "48         John Krasinski  7.566667\n",
              "49               Lee Kirk  7.500000\n",
              "50               Ed Helms  7.500000\n",
              "51             Eric Appel  7.400000\n",
              "52        Alex Hardcastle  7.400000\n",
              "53         Claire Scanlon  7.000000"
            ]
          },
          "metadata": {},
          "execution_count": 46
        }
      ]
    },
    {
      "cell_type": "markdown",
      "source": [
        "##Charts \n",
        "We put the rating into a diagram to clearly show the higfhest ratings."
      ],
      "metadata": {
        "id": "HNpCTDu6ZVfK"
      }
    },
    {
      "cell_type": "code",
      "source": [
        "sns.factorplot(data=df, kind='box', size=4, aspect=2)"
      ],
      "metadata": {
        "colab": {
          "base_uri": "https://localhost:8080/",
          "height": 201
        },
        "id": "v3-jObMNZgxA",
        "outputId": "5852bd08-6181-484d-ad15-c2907ebf9270"
      },
      "execution_count": 2,
      "outputs": [
        {
          "output_type": "error",
          "ename": "NameError",
          "evalue": "ignored",
          "traceback": [
            "\u001b[0;31m---------------------------------------------------------------------------\u001b[0m",
            "\u001b[0;31mNameError\u001b[0m                                 Traceback (most recent call last)",
            "\u001b[0;32m<ipython-input-2-ec7c7282bd9c>\u001b[0m in \u001b[0;36m<module>\u001b[0;34m()\u001b[0m\n\u001b[0;32m----> 1\u001b[0;31m \u001b[0msns\u001b[0m\u001b[0;34m.\u001b[0m\u001b[0mfactorplot\u001b[0m\u001b[0;34m(\u001b[0m\u001b[0mdata\u001b[0m\u001b[0;34m=\u001b[0m\u001b[0mdf\u001b[0m\u001b[0;34m,\u001b[0m \u001b[0mkind\u001b[0m\u001b[0;34m=\u001b[0m\u001b[0;34m'box'\u001b[0m\u001b[0;34m,\u001b[0m \u001b[0msize\u001b[0m\u001b[0;34m=\u001b[0m\u001b[0;36m4\u001b[0m\u001b[0;34m,\u001b[0m \u001b[0maspect\u001b[0m\u001b[0;34m=\u001b[0m\u001b[0;36m2\u001b[0m\u001b[0;34m)\u001b[0m\u001b[0;34m\u001b[0m\u001b[0;34m\u001b[0m\u001b[0m\n\u001b[0m",
            "\u001b[0;31mNameError\u001b[0m: name 'sns' is not defined"
          ]
        }
      ]
    },
    {
      "cell_type": "markdown",
      "source": [
        "#The most highly rated director on average is \n",
        "Harold Remis averaging 8.825 out of 10 for his episodes directed.\n"
      ],
      "metadata": {
        "id": "xr-ftMvCAyXc"
      }
    },
    {
      "cell_type": "markdown",
      "source": [
        "##In conclusion\n",
        "The most successful director of the office is Paul Feig.\\\n",
        "We arrived at this conclusion by testing a few qualities that are important to being the best director statistically, which we decided was quantity of episodes worked on as well as quality of the episodes worked on. Based on this Paul Feig is the consensus best, because despite the largest sample size out of all directors with 15 episodes directed, he was the 4th best in average ratings out of all directors too. This shows how successful the episodes that he made were and prove that he is the best Director that \"The Office\" ever had."
      ],
      "metadata": {
        "id": "hYJmWbolxZtO"
      }
    }
  ]
}