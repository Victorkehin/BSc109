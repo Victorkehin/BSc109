{
  "nbformat": 4,
  "nbformat_minor": 0,
  "metadata": {
    "colab": {
      "name": "Something_ about_ me_BCS109",
      "provenance": [],
      "collapsed_sections": [],
      "toc_visible": true
    },
    "kernelspec": {
      "name": "python3",
      "display_name": "Python 3"
    },
    "language_info": {
      "name": "python"
    }
  },
  "cells": [
    {
      "cell_type": "code",
      "metadata": {
        "id": "Va8trohvTOrZ"
      },
      "source": [
        "\n"
      ],
      "execution_count": 3,
      "outputs": []
    },
    {
      "cell_type": "markdown",
      "metadata": {
        "id": "l1tSgJtBdsQe"
      },
      "source": [
        "# Something interesting about me. \n",
        "** About Anuoluwa Emmanuel.**\n",
        "\n",
        "I am new to programming, and would love to get good at creating projects.\n",
        "\n",
        "Something interesting about me is that I am an artist, I love to make art; drawing, painting anad making music. \n",
        "\n"
      ]
    },
    {
      "cell_type": "markdown",
      "metadata": {
        "id": "t7r4D3NueFk2"
      },
      "source": [
        ""
      ]
    }
  ]
}