{
  "nbformat": 4,
  "nbformat_minor": 0,
  "metadata": {
    "colab": {
      "name": "Charting_basics_Hw",
      "provenance": [],
      "collapsed_sections": [],
      "authorship_tag": "ABX9TyMn+lItSLDw2O6Or7sb+TDg",
      "include_colab_link": true
    },
    "kernelspec": {
      "name": "python3",
      "display_name": "Python 3"
    },
    "language_info": {
      "name": "python"
    }
  },
  "cells": [
    {
      "cell_type": "markdown",
      "metadata": {
        "id": "view-in-github",
        "colab_type": "text"
      },
      "source": [
        "<a href=\"https://colab.research.google.com/github/Victorkehin/BSc109/blob/main/Charting_basics_Hw.ipynb\" target=\"_parent\"><img src=\"https://colab.research.google.com/assets/colab-badge.svg\" alt=\"Open In Colab\"/></a>"
      ]
    },
    {
      "cell_type": "markdown",
      "metadata": {
        "id": "h4FrxTu0u5wO"
      },
      "source": [
        "## MAX, MIN, AVG, STD DEVIATION, GEOMETRIC AVG"
      ]
    },
    {
      "cell_type": "code",
      "metadata": {
        "colab": {
          "base_uri": "https://localhost:8080/"
        },
        "id": "x4qFEVObusTt",
        "outputId": "07d330b0-16ce-4f09-af7e-f8fb2c871110"
      },
      "source": [
        "#This program creates functions to do the following: max, min, average, standard deviation, and geometric average. \n",
        "import numpy as np\n",
        "import math as m \n",
        "\n",
        "def theMax(numbers):\n",
        "  my_max = numbers[0]\n",
        "  for i in numbers:\n",
        "    if i > my_max:\n",
        "      my_max = i\n",
        "    return my_max\n",
        "\n",
        "def theMin(numbers):\n",
        "  my_min = numbers[0]\n",
        "  for i in numbers:\n",
        "    if i < my_min:\n",
        "      my_min = i\n",
        "    return my_min\n",
        "\n",
        "def eX(vals, weights, power):\n",
        "  middle_step = (vals**power)*weights\n",
        "  total = 0\n",
        "  for i in middle_step:\n",
        "    total += i\n",
        "  return total\n",
        "\n",
        "def stdev(vals, weights):\n",
        "  ex_1 = eX(vals, weights,1)\n",
        "  ex_2 = eX(vals, weights,2)\n",
        "  return np.sqrt(ex_2-ex_1**2)\n",
        "\n",
        "def geometric_avg(numbers):\n",
        "  mult = 1\n",
        "  for i in numbers:\n",
        "    mult*= i\n",
        "  return m.pow(mult,1/len(numbers))\n",
        "\n",
        "weights = np.array([.1,.1,.1,.1,.1,.1,.1,.1,.1,.1])\n",
        "vals = np.array([1,2,3,6,9,3,5,11,10,2])\n",
        "print(\"The average is: \",eX(vals=vals, weights=weights, power=1))\n",
        "print(\"The standard deviation is: \", stdev(vals,weights))\n",
        "print(\"The geometric average is: \", geometric_avg(vals))\n"
      ],
      "execution_count": 5,
      "outputs": [
        {
          "output_type": "stream",
          "name": "stdout",
          "text": [
            "The average is:  5.2\n",
            "The standard deviation is:  3.458323293158116\n",
            "The geometric average is:  4.007798653326458\n"
          ]
        }
      ]
    },
    {
      "cell_type": "markdown",
      "metadata": {
        "id": "bc9-yjrQxbin"
      },
      "source": [
        "Create a function that asks the user which shape they would like to analyze. It should then call other functions based on this and return the area of the shape.  The triangle function should take in the base and height, the circle function should take in the radius, and the square function should take in the side length."
      ]
    },
    {
      "cell_type": "code",
      "metadata": {
        "id": "WJJDaCr-xeft"
      },
      "source": [
        "def shape_choice():\n",
        "  data = int(input(\"Which shape do you want the area of? (triangle -> 1, square -> 2, circle -> 3)\")\n",
        "  if data is 1:\n",
        "    base = float(input(\"What is the base?\"))\n",
        "    height = float(input(\"What is the height?\"))\n",
        "    triangle(base, height)\n",
        "  elif data is 2:\n",
        "    side = float(input(\"What is the side?\"))\n",
        "    square()\n",
        "  elif data is 3:\n",
        "    PI = 3.14\n",
        "    r = float(input(\"Enter the radius of a circle: \"))\n",
        "    findArea = PI * r * r\n",
        "    circle()\n",
        "\n",
        "\n",
        "  \n",
        "def triangle(base, height):\n",
        "  print(\"The area of the trianle is: \" base*height)\n",
        "\n",
        "def square(side):\n",
        "  print(\"The area of the square is: \", side*side)\n",
        "\n",
        "def findArea(r):\n",
        "    PI = 3.14\n",
        "    return PI * (r*r);\n",
        "print(\"Area of circle = %.6f\" % findArea(6));\n",
        "\n",
        "shape_choice()"
      ],
      "execution_count": null,
      "outputs": []
    },
    {
      "cell_type": "markdown",
      "metadata": {
        "id": "RcTCkbbqBlga"
      },
      "source": [
        "Create a function that takes in a list and returns the list doubled. It should ask the user for option one or two. If the user chooses option one it should return the list doubled such as [1 2 3] becoming [1 2 3 1 2 3], if the user chooses option two then is should return the list such as [1 2 3] becoming [2 4 6]."
      ]
    },
    {
      "cell_type": "code",
      "metadata": {
        "colab": {
          "base_uri": "https://localhost:8080/"
        },
        "id": "NX5oVosZBjWK",
        "outputId": "5e847ffd-8a63-4160-ab15-1dacb69054a9"
      },
      "source": [
        "#When we multiiplya numpy array it does it as scalar multiplication\n",
        "\n",
        "def approach(numbers):\n",
        "  choice = int(input(\"Do you want to see the number 2 times (write 1) or would you like to see the numbers double (write 2): \"))\n",
        "  if choice is 1:\n",
        "    numbers = numbers*2\n",
        "  elif choice is 2:\n",
        "    numbers = np.array(numbers)\n",
        "    numbers = numbers*2\n",
        "  return numbers\n",
        "\n",
        "vals = [1, 2, 3, 4, 5, 6]\n",
        "print(approach(vals))\n"
      ],
      "execution_count": 9,
      "outputs": [
        {
          "output_type": "stream",
          "name": "stdout",
          "text": [
            "Do you want to see the number 2 times (write 1) or would you like to see the numbers double (write 2): 1\n",
            "[1, 2, 3, 4, 5, 6, 1, 2, 3, 4, 5, 6]\n"
          ]
        }
      ]
    },
    {
      "cell_type": "markdown",
      "metadata": {
        "id": "TwmtbS7Y1zkO"
      },
      "source": [
        "Create a function that takes in two lists and concatenates the numbers in those lists. For instance, if we have [1 2 3] and [7 8 9], we should return [17 28 39]."
      ]
    },
    {
      "cell_type": "code",
      "metadata": {
        "colab": {
          "base_uri": "https://localhost:8080/"
        },
        "id": "745OWh-L1xx-",
        "outputId": "8fd07130-5b9b-4bc5-af1e-eba8f6d7068d"
      },
      "source": [
        "def concat_lists(list_1, list_2):\n",
        "  concated = []\n",
        "  for (i, j) in zip(list_1, list_2):\n",
        "    concated.append(int(str(i) + str(j)))\n",
        "  return concated\n",
        "\n",
        "list_1 = [1,2,3]\n",
        "list_2 = [4,5,6]\n",
        "print(concat_lists(list_1,list_2))\n"
      ],
      "execution_count": 5,
      "outputs": [
        {
          "output_type": "stream",
          "name": "stdout",
          "text": [
            "[14, 25, 36]\n"
          ]
        }
      ]
    },
    {
      "cell_type": "markdown",
      "metadata": {
        "id": "0aw5ElTV3IUQ"
      },
      "source": [
        "Create a function that returns a list of primes up until the number passed in. So if 100 is passed in, it should return all the primes up until 100."
      ]
    },
    {
      "cell_type": "code",
      "metadata": {
        "colab": {
          "base_uri": "https://localhost:8080/"
        },
        "id": "dgBElls11jki",
        "outputId": "3dd584bc-eb1b-4988-9799-fcb7007f0a01"
      },
      "source": [
        "def isPrime(num):\n",
        "  for i in range (2,num):\n",
        "    if (num % i == 0):\n",
        "      return False\n",
        "  return True\n",
        "\n",
        "def listPrimes(x,y):\n",
        "    for i in range(x,y+1):\n",
        "      if (isPrime(i)):\n",
        "        print(i, end = \"|\")\n",
        "\n",
        "listPrimes(2,100)\n",
        "\n"
      ],
      "execution_count": 20,
      "outputs": [
        {
          "output_type": "stream",
          "name": "stdout",
          "text": [
            "2|3|5|7|11|13|17|19|23|29|31|37|41|43|47|53|59|61|67|71|73|79|83|89|97|"
          ]
        }
      ]
    },
    {
      "cell_type": "markdown",
      "metadata": {
        "id": "Rt7fV6-m9-S-"
      },
      "source": [
        "Write a function calculation() such that it can accept two variables and calculate the multiplication and divison of it. And also it must return both results in a single return call"
      ]
    },
    {
      "cell_type": "code",
      "metadata": {
        "colab": {
          "base_uri": "https://localhost:8080/"
        },
        "id": "XowXJZfT-AWZ",
        "outputId": "c61de62d-4004-4749-a722-e4b999e0a45a"
      },
      "source": [
        "def calculation(a,b):\n",
        "  return a-b, a+b\n",
        "\n",
        "plus, minus = calculation(10,8)\n",
        "print(plus, \" \", minus)"
      ],
      "execution_count": 11,
      "outputs": [
        {
          "output_type": "stream",
          "name": "stdout",
          "text": [
            "2   18\n"
          ]
        }
      ]
    },
    {
      "cell_type": "markdown",
      "metadata": {
        "id": "YW6vkXva_E_Y"
      },
      "source": [
        "Find the sum of the even valued Fibonacci numbers below 500."
      ]
    },
    {
      "cell_type": "code",
      "metadata": {
        "colab": {
          "base_uri": "https://localhost:8080/"
        },
        "id": "DIS6VHUQ_Gmb",
        "outputId": "391580eb-5e0d-4006-980c-b4884d94775a"
      },
      "source": [
        "def oddFib(k):\n",
        "  first = 1 \n",
        "  second = 1 \n",
        "  total = first + second\n",
        "  for i in range(k):\n",
        "    third = first + second\n",
        "    if (third % 2 == 1):\n",
        "      total += second\n",
        "    first = second\n",
        "    second = third\n",
        "  return total\n",
        "\n",
        "print(oddFib(10))"
      ],
      "execution_count": 18,
      "outputs": [
        {
          "output_type": "stream",
          "name": "stdout",
          "text": [
            "117\n"
          ]
        }
      ]
    },
    {
      "cell_type": "markdown",
      "metadata": {
        "id": "x4LXjV6fJUjk"
      },
      "source": [
        "Find the sum of all the numbers that can be written as the sum of fifth pwerd of their digits"
      ]
    },
    {
      "cell_type": "code",
      "metadata": {
        "colab": {
          "base_uri": "https://localhost:8080/"
        },
        "id": "VSFAyXCIJTKh",
        "outputId": "625489fa-0f61-42e7-929f-d953e92485d3"
      },
      "source": [
        "def fifth_powers():\n",
        "  for spot in range(2,1000000):\n",
        "    #we convert an int into a list of its digits\n",
        "    digits = [int(i) for i in str(spot)]\n",
        "    total = 0\n",
        "    for k in digits:\n",
        "      total += pow(k,5)\n",
        "    if total == spot:\n",
        "      print(total)\n",
        "\n",
        "fifth_powers()"
      ],
      "execution_count": 2,
      "outputs": [
        {
          "output_type": "stream",
          "name": "stdout",
          "text": [
            "4150\n",
            "4151\n",
            "54748\n",
            "92727\n",
            "93084\n",
            "194979\n"
          ]
        }
      ]
    },
    {
      "cell_type": "markdown",
      "metadata": {
        "id": "f_8QQI6JFJyB"
      },
      "source": [
        ""
      ]
    }
  ]
}