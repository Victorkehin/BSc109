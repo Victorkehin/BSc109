{
  "nbformat": 4,
  "nbformat_minor": 0,
  "metadata": {
    "colab": {
      "name": "Functuions_HW",
      "provenance": [],
      "collapsed_sections": []
    },
    "kernelspec": {
      "name": "python3",
      "display_name": "Python 3"
    },
    "language_info": {
      "name": "python"
    }
  },
  "cells": [
    {
      "cell_type": "markdown",
      "metadata": {
        "id": "s-wMLICS0kwk"
      },
      "source": [
        "##Average\n",
        "\n"
      ]
    },
    {
      "cell_type": "code",
      "metadata": {
        "id": "WgjitgHe0pNx",
        "colab": {
          "base_uri": "https://localhost:8080/"
        },
        "outputId": "377d0fc9-67be-4f08-cf2d-790ee4021dc0"
      },
      "source": [
        "#This program Create a function that takes in two numbers and returns the average of those numbers\n",
        "def func1(x,y):\n",
        "  return (x+y)/2\n",
        "\n",
        "num1 = int(input(\"Give me a number \"))\n",
        "num2 = int(input(\"Give me a number\"))\n",
        "\n",
        "avg = func1(num1, num2)\n",
        "print(avg)"
      ],
      "execution_count": null,
      "outputs": [
        {
          "output_type": "stream",
          "name": "stdout",
          "text": [
            "Give me a number 3\n",
            "Give me a number4\n",
            "3.5\n"
          ]
        }
      ]
    },
    {
      "cell_type": "markdown",
      "metadata": {
        "id": "FH7epWkE1C5r"
      },
      "source": [
        "##Sum\n"
      ]
    },
    {
      "cell_type": "code",
      "metadata": {
        "id": "dUJZ7sMA1Ene",
        "colab": {
          "base_uri": "https://localhost:8080/"
        },
        "outputId": "0bd88d5a-6db6-47a7-dcac-385fefeefa3f"
      },
      "source": [
        "#This program Create a function that takes in two numbers and returns the sum from number1 to number2.\n",
        "def addition(number1, number2):\n",
        "  return int(((number2 - number1) + 1) * ((number1 + number2)/2))\n",
        "\n",
        " \n",
        "res = addition(5,10) #45 \n",
        "print(res)"
      ],
      "execution_count": null,
      "outputs": [
        {
          "output_type": "stream",
          "name": "stdout",
          "text": [
            "45\n"
          ]
        }
      ]
    },
    {
      "cell_type": "markdown",
      "metadata": {
        "id": "RUaheLXE1FKF"
      },
      "source": [
        "##Percentage\n"
      ]
    },
    {
      "cell_type": "code",
      "metadata": {
        "id": "7B11m1uk1hEo",
        "colab": {
          "base_uri": "https://localhost:8080/"
        },
        "outputId": "89c8359a-31e0-43d4-a41b-272f1d736807"
      },
      "source": [
        "#This program Creates a function that takes in item_cost, the percentage_off, and the tax.\n",
        "#Itis going to return the total cost.\n",
        "\n",
        "def calculate_tax(percentage_off, tax_rate):\n",
        "    return (percentage_off * tax_rate) * .01\n",
        " \n",
        "# float is a variable type for decimals\n",
        "item = str(input(\"Please enter an item: \"))\n",
        "item_cost = float(input(\"Price of the item $\"))\n",
        "for rate in [5, 10, 15, 20, 25]:\n",
        "    tax = calculate_tax(item_cost, rate)\n",
        "    print('{}% tax on a {} costing ${:.2f} is ${:.2f} for a total of ${:.2f}'\n",
        "          .format(rate, item, item_cost, tax, item_cost + tax))\n",
        " "
      ],
      "execution_count": 25,
      "outputs": [
        {
          "output_type": "stream",
          "name": "stdout",
          "text": [
            "Please enter an item: ps5\n",
            "Price of the item $1000\n",
            "5% tax on a ps5 costing $1000.00 is $50.00 for a total of $1050.00\n",
            "10% tax on a ps5 costing $1000.00 is $100.00 for a total of $1100.00\n",
            "15% tax on a ps5 costing $1000.00 is $150.00 for a total of $1150.00\n",
            "20% tax on a ps5 costing $1000.00 is $200.00 for a total of $1200.00\n",
            "25% tax on a ps5 costing $1000.00 is $250.00 for a total of $1250.00\n"
          ]
        }
      ]
    },
    {
      "cell_type": "markdown",
      "metadata": {
        "id": "r89aUzhV1heK"
      },
      "source": [
        "##List the Prime numbers.\n",
        "\n"
      ]
    },
    {
      "cell_type": "code",
      "metadata": {
        "colab": {
          "base_uri": "https://localhost:8080/"
        },
        "id": "dgBElls11jki",
        "outputId": "b43b277b-4df0-43b2-d397-93b56f4a7158"
      },
      "source": [
        "def isPrime(num):\n",
        "  for i in range (2,num):\n",
        "    if (num % i == 0):\n",
        "      return False\n",
        "  return True\n",
        "\n",
        "def listPrimes(x,y):\n",
        "    for i in range(x,y+1):\n",
        "      if (isPrime(i)):\n",
        "        print(i, end = \"|\")\n",
        "\n",
        "listPrimes(2,1000)\n",
        "\n"
      ],
      "execution_count": null,
      "outputs": [
        {
          "output_type": "stream",
          "name": "stdout",
          "text": [
            "2|3|5|7|11|13|17|19|23|29|31|37|41|43|47|53|59|61|67|71|73|79|83|89|97|101|103|107|109|113|127|131|137|139|149|151|157|163|167|173|179|181|191|193|197|199|211|223|227|229|233|239|241|251|257|263|269|271|277|281|283|293|307|311|313|317|331|337|347|349|353|359|367|373|379|383|389|397|401|409|419|421|431|433|439|443|449|457|461|463|467|479|487|491|499|503|509|521|523|541|547|557|563|569|571|577|587|593|599|601|607|613|617|619|631|641|643|647|653|659|661|673|677|683|691|701|709|719|727|733|739|743|751|757|761|769|773|787|797|809|811|821|823|827|829|839|853|857|859|863|877|881|883|887|907|911|919|929|937|941|947|953|967|971|977|983|991|997|"
          ]
        }
      ]
    },
    {
      "cell_type": "markdown",
      "metadata": {
        "id": "N80DC1LRvomu"
      },
      "source": [
        "##Coprime "
      ]
    },
    {
      "cell_type": "code",
      "metadata": {
        "id": "vVNAJiC837Wd"
      },
      "source": [
        "#Testing coprime numbers\n",
        "def coprime_test(num1, num2):\n",
        "  for i in range(2, num2+1):\n",
        "    if (num1 % i == num2 % i == 0):\n",
        "      return False\n",
        "    return True \n",
        "\n",
        "def list_coprimes(x):\n",
        "  print(1)\n",
        "  for i in range(2,x):\n",
        "    if(coprime_test(x,i)):\n",
        "      print(i)\n",
        "\n",
        "list_coprimes(12)"
      ],
      "execution_count": null,
      "outputs": []
    },
    {
      "cell_type": "markdown",
      "metadata": {
        "id": "k4eBjR8Nj1Nh"
      },
      "source": [
        "##How many are coprime\n"
      ]
    },
    {
      "cell_type": "code",
      "metadata": {
        "colab": {
          "base_uri": "https://localhost:8080/"
        },
        "id": "mjf00R7Zj8Px",
        "outputId": "de9a8500-f35a-4b5c-b458-203fb6b08f5f"
      },
      "source": [
        "#This program Creates a function that takes in a number and return how many numbers below it are coprime.\n",
        "def coprime_test (n):   \n",
        "    if ( n <= 3):\n",
        "        # Loop for the numbers less\n",
        "        # than the 4\n",
        "        for i in range (1, n + 1):\n",
        "            print (j, end =\" \")\n",
        "        print ()\n",
        "    else:\n",
        "        # Integers 1, 2 and 3 can be\n",
        "        # grouped into one group\n",
        "        print (1, 2, 3)\n",
        "        for i in range ( 4, n, 2 ):\n",
        "             \n",
        "            # Consecutive even and\n",
        "            # odd numbers\n",
        "            print (i, ( i + 1 ))\n",
        "        if(n % 2 == 0):        \n",
        "            print (n)\n",
        " \n",
        "# Driver Code           \n",
        "if __name__ == \"__main__\":\n",
        "    n = 9\n",
        "     \n",
        "    # Function Call\n",
        "    coprime_test (n)\n"
      ],
      "execution_count": 29,
      "outputs": [
        {
          "output_type": "stream",
          "name": "stdout",
          "text": [
            "1 2 3\n",
            "4 5\n",
            "6 7\n",
            "8 9\n"
          ]
        }
      ]
    },
    {
      "cell_type": "markdown",
      "metadata": {
        "id": "kVoFu8wfvhz7"
      },
      "source": [
        "##Twin Prime"
      ]
    },
    {
      "cell_type": "code",
      "metadata": {
        "colab": {
          "base_uri": "https://localhost:8080/"
        },
        "id": "tp4yOrkw6P1z",
        "outputId": "2111d6d7-66b8-4a90-84b0-63384e187312"
      },
      "source": [
        "#Twin Primes\n",
        "def isTwinPrime(x):\n",
        "  if (isPrime(x) and isPrime(x+2)):\n",
        "    return True\n",
        "  return False\n",
        "\n",
        "def listTwinPrimes(x,y):\n",
        "  for i in range(x,y+1):\n",
        "    if (isTwinPrime(i)):\n",
        "      print(i, \" \", i+2)\n",
        "      i += 2 \n",
        "\n",
        "listTwinPrimes(2,100)\n"
      ],
      "execution_count": null,
      "outputs": [
        {
          "output_type": "stream",
          "name": "stdout",
          "text": [
            "3   5\n",
            "5   7\n",
            "11   13\n",
            "17   19\n",
            "29   31\n",
            "41   43\n",
            "59   61\n",
            "71   73\n"
          ]
        }
      ]
    },
    {
      "cell_type": "markdown",
      "metadata": {
        "id": "gomCDGYEAtCO"
      },
      "source": [
        "## Rock Paper Scissors\n"
      ]
    },
    {
      "cell_type": "code",
      "metadata": {
        "colab": {
          "base_uri": "https://localhost:8080/"
        },
        "id": "5yqXZX2B63B6",
        "outputId": "a3de872c-aa67-425b-c59c-3b1f0bb50805"
      },
      "source": [
        "#Rock Papar Scissors\n",
        "import random as r\n",
        "\n",
        "def rps():\n",
        " rock = 0 \n",
        " paper = 0 \n",
        " scissors = 0\n",
        " for i in range(10000):\n",
        "  num1 = r.randint(1,3)\n",
        "  num2 = r.randint(1,3)\n",
        "\n",
        "  if (num1 == num2):\n",
        "   continue\n",
        "  elif (num1 == 1 and num2 == 2):\n",
        "   paper += 1\n",
        "  elif (num1 == 1 and num2 == 3):\n",
        "   rock += 1\n",
        "  elif (num1 == 2 and num2 == 3):\n",
        "   scissors += 1\n",
        "\n",
        " print(\"rock \", rock/10000)\n",
        " print(\"scissors \", scissors/10000)\n",
        " print(\"paper \", paper/10000)\n",
        "\n",
        "rps()"
      ],
      "execution_count": null,
      "outputs": [
        {
          "output_type": "stream",
          "name": "stdout",
          "text": [
            "rock  0.1071\n",
            "scissors  0.117\n",
            "paper  0.1105\n"
          ]
        }
      ]
    },
    {
      "cell_type": "markdown",
      "metadata": {
        "id": "3dqYPgV8kJ4J"
      },
      "source": [
        "##Monty Hall Probability\n"
      ]
    },
    {
      "cell_type": "code",
      "metadata": {
        "id": "7T0kpdq0-R7G",
        "colab": {
          "base_uri": "https://localhost:8080/"
        },
        "outputId": "4c4d12c4-42a8-4496-fc09-30887301e0dd"
      },
      "source": [
        "#This program Creates a function that tests the probabilities of the Monty Hall problem.\n",
        "\n",
        "import random\n",
        "\n",
        "def run_trial(switch_doors, ndoors=3):\n",
        "    # Pick a random door out of the ndoors available\n",
        "    chosen_door = random.randint(1, ndoors)\n",
        "    if switch_doors:\n",
        "        # Reveal a goat\n",
        "        revealed_door = 3 if chosen_door==2 else 2\n",
        "        # Make the switch by choosing any other door than the initially-\n",
        "        # selected one and the one just opened to reveal a goat. \n",
        "        available_doors = [dnum for dnum in range(1,ndoors+1)\n",
        "                                if dnum not in (chosen_door, revealed_door)]\n",
        "        chosen_door = random.choice(available_doors)\n",
        "\n",
        "    # You win if you picked door number 1\n",
        "    return chosen_door == 1\n",
        "\n",
        "\n",
        "switch_wins = no_switch_wins = 0\n",
        "switch_trials = no_switch_trials = 1000\n",
        "\n",
        "for i in range(switch_trials):\n",
        "    if run_trial(True):\n",
        "        switch_wins += 1\n",
        "\n",
        "for i in range(no_switch_trials):\n",
        "    if run_trial(False):\n",
        "        no_switch_wins += 1\n",
        "\n",
        "\n",
        "print(f'Win Percentage when switching: {switch_wins/switch_trials}')\n",
        "print(f'Win Percentage without switching: {no_switch_wins/no_switch_trials}')\n"
      ],
      "execution_count": null,
      "outputs": [
        {
          "output_type": "stream",
          "name": "stdout",
          "text": [
            "Win Percentage when switching: 0.675\n",
            "Win Percentage without switching: 0.321\n"
          ]
        }
      ]
    }
  ]
}